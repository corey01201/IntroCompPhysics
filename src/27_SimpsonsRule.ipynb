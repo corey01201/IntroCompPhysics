{
 "cells": [
  {
   "cell_type": "markdown",
   "metadata": {},
   "source": [
    "# Computational Physics\n",
    "## Simpson's Rule\n",
    "\n",
    "<img src=\"https://upload.wikimedia.org/wikipedia/en/6/67/Simpsonsrule2.gif\" width=500px>"
   ]
  },
  {
   "cell_type": "markdown",
   "metadata": {},
   "source": [
    "## Last Time\n",
    "\n",
    "- Solving for the magnetic field\n",
    "- Approximating integrals\n",
    " - Rectangular rule\n",
    " - Trapezoidal rule\n",
    "\n",
    "## Today\n",
    "\n",
    "- Simpson's rule\n",
    "- Improper and divergent integrals"
   ]
  },
  {
   "cell_type": "markdown",
   "metadata": {},
   "source": [
    "## Setting up the Notebook"
   ]
  },
  {
   "cell_type": "code",
   "execution_count": 4,
   "metadata": {
    "collapsed": false
   },
   "outputs": [],
   "source": [
    "import matplotlib.pyplot as plt\n",
    "import numpy as np\n",
    "%matplotlib inline\n",
    "# plt.style.use('notebook');\n",
    "%config InlineBackend.figure_format = 'retina'\n",
    "colors = [\"#2078B5\", \"#FF7F0F\", \"#2CA12C\", \"#D72827\", \"#9467BE\", \"#8C574B\",\n",
    "            \"#E478C2\", \"#808080\", \"#BCBE20\", \"#17BED0\", \"#AEC8E9\", \"#FFBC79\", \n",
    "            \"#98E08B\", \"#FF9896\", \"#C6B1D6\", \"#C59D94\", \"#F8B7D3\", \"#C8C8C8\", \n",
    "           \"#DCDC8E\", \"#9EDAE6\"]"
   ]
  },
  {
   "cell_type": "markdown",
   "metadata": {},
   "source": [
    "## Better Quadrature\n",
    "\n",
    "We want to come up with a better scaling approximation to the definite integral:\n",
    "\n",
    "\\begin{equation}\n",
    "I = \\int_a^b f(x) dx\n",
    "\\end{equation}\n",
    "\n",
    "where we break up the region of integration into $N$ equally sized regions of size:\n",
    "\n",
    "\\begin{equation}\n",
    "\\Delta x = \\frac{b-a}{N}.\n",
    "\\end{equation}\n",
    "\n",
    "Our previous methods approximated the integral of a single panel $I_i = \\int_{x_i}^{x_{i+1}} f(x) dx$ using a $0^{th}$ or $1^{st}$ order polynomial.  Now, let's use a $2^{nd}$ order polynomial:\n",
    "\n",
    "\\begin{equation}\n",
    "P(x) = \\alpha + \\beta x + \\gamma x^2\n",
    "\\end{equation}\n",
    "\n",
    "where we need to fix the coefficients $\\alpha,\\beta,\\gamma$ by matching:\n",
    "\n",
    "\\begin{equation}\n",
    "\\int_{x_i}^{x+2} P(x) dx \\approx \\int_{x_i}^{x_{i+2}} f(x) dx .\n",
    "\\end{equation}\n",
    "\n",
    "The final answer is: \n",
    "\n",
    "\\begin{equation}\n",
    "I_i + I_{i+1} \\approx \\frac{\\Delta x}{3} \\left[f(x_i) + 4 f(x_{i+1}) + f(x_{i+2}) \\right]\n",
    "\\end{equation}\n",
    "\n",
    "which needs to be summed over all panels:\n",
    "\n",
    "\\begin{equation}\n",
    "I_{\\rm simps} \\approx \\frac{\\Delta x}{3} \\left[f(a) + f(b) + 4\\sum_{i=1}^{N/2} f(x_{2i-1}) + 2\\sum_{i=1}^{N/2-1} f(x_{2i}) \\right]\n",
    "\\end{equation}\n",
    "\n",
    "<div class=\"span alert alert-danger\">\n",
    "Note: we need an even number of panels for this to work.\n",
    "</div>\n",
    "\n",
    "Let's code it up!"
   ]
  },
  {
   "cell_type": "code",
   "execution_count": null,
   "metadata": {
    "collapsed": true
   },
   "outputs": [],
   "source": [
    "def simpsons_rule(f,x,*params):\n",
    "    '''The trapezoidal rule for numerical integration of f(x) over x.'''\n",
    "    a,b = x[0],x[-1]\n",
    "    Δx = x[1] - x[0]\n",
    "    N = x.size\n",
    "    \n",
    "    #I = (f(a,*params) + f(b,*params))/3.0\n",
    "    #I += (4.0/3.0)*np.sum([f(a + j*Δx,*params) for j in range(1,N,2)])\n",
    "    #I += (2.0/3.0)*np.sum([f(a + j*Δx,*params) for j in range(2,N,2)])\n",
    "    \n",
    "    I = (f(a,*params) + f(b,*params))/3.0\n",
    "    I += (4.0/3.0)*sum([f(a+i*Δx,*params) for i in range(1,N,2)])\n",
    "    I += (2.0/3.0)*sum([f(a+i*Δx,*params) for i in range(2,N,2)])\n",
    "    \n",
    "    return Δx*I"
   ]
  },
  {
   "cell_type": "markdown",
   "metadata": {},
   "source": [
    "<div class=\"span alert alert-success\">\n",
    "<h2>Programming challenge </h2>\n",
    "Use Simpson's rule to evaluate the error function in the range $x\\in [0,1]$. Make sure to keep the panel width $\\Delta x$ fixed for each value of $x$. Compare with the exact result from scipy.special.\n",
    "</div>\n",
    "\n",
    "\\begin{equation}\n",
    "\\mathrm{erf}(x) = \\frac{2}{\\sqrt{\\pi}} \\int_0^x \\mathrm{e}^{-t^2} dt \n",
    "\\end{equation}"
   ]
  },
  {
   "cell_type": "code",
   "execution_count": 6,
   "metadata": {
    "collapsed": false
   },
   "outputs": [
    {
     "data": {
      "text/plain": [
       "Text(0, 0.5, 'erf(x)')"
      ]
     },
     "execution_count": 6,
     "metadata": {},
     "output_type": "execute_result"
    },
    {
     "data": {
      "image/png": "[encoded data removed]",
      "text/plain": [
       "<Figure size 432x288 with 1 Axes>"
      ]
     },
     "metadata": {
      "image/png": {
       "height": 261,
       "width": 400
      },
      "needs_background": "light"
     },
     "output_type": "display_data"
    }
   ],
   "source": [
    "from scipy.constants import pi as  π\n",
    "from scipy.special import erf\n",
    "\n",
    "def erf_kernel(t):\n",
    "    pass\n",
    "\n",
    "Δx = 0.001\n",
    "x = np.linspace(0,1,20)\n",
    "erf_approx = np.zeros_like(x)\n",
    "\n",
    "for j,cx in enumerate(x[1:]):\n",
    "    pass\n",
    "\n",
    "# plot the results and compare with the 'exact' value\n",
    "plt.plot(x,erf_approx,'o', mec=colors[0], mfc=colors[0], mew=1, ms=8, label=\"Simpson's Rule\")\n",
    "plt.legend(loc='lower right')\n",
    "plt.xlabel('x')\n",
    "plt.ylabel('erf(x)')"
   ]
  },
  {
   "cell_type": "markdown",
   "metadata": {},
   "source": [
    "## Improper Integrals\n",
    "\n",
    "### Infinite Intervals\n",
    "\n",
    "Suppose we want to evaluate a definite integral on a semi-infinte interval: $[a,\\infty]$ or $[-\\infty,b]$.  We can proceed by finding a function $\\phi$ which maps the semi-infinite region to a finite one.\n",
    "\n",
    "\\begin{equation}\n",
    "I = \\int_a^b f(x) dx\n",
    "\\end{equation}\n",
    "\n",
    "with $a=-\\infty$ or $b = \\infty$ but not both.\n",
    "\n",
    "#### (i) $a\\ne 0 \\text{ and } b \\ne 0$\n",
    "\n",
    "Consider $y = \\phi(x) = \\frac{1}{x}$, then:\n",
    "\n",
    "\\begin{align}\n",
    "I &= \\int_a^b f(x) dx \\newline\n",
    "&= \\int_{1/a}^{1/b} dy \\left(-\\frac{1}{y^2}\\right) f\\left(\\frac{1}{y}\\right) \\newline \n",
    "&= \\int_{1/b}^{1/a} \\frac{dy}{y^2} f\\left(\\frac{1}{y}\\right) .\n",
    "\\end{align}\n",
    "\n",
    "#### (ii) $a = 0 \\text{ and } b = \\infty$\n",
    "\n",
    "Consider $y = \\phi(x) = \\frac{x}{1+x}$, then:\n",
    "\n",
    "\\begin{align}\n",
    "y (1+x) &= x \\newline\n",
    "x(1-y) &= y \\newline\n",
    "x &= \\phi^{-1}(y) = \\frac{y}{1-y}\n",
    "\\end{align}\n",
    "\n",
    "so:\n",
    "\n",
    "\\begin{equation}\n",
    "dx = dy \\left[\\frac{1}{1-y} + \\frac{y}{(1-y)^2} \\right] \\Rightarrow dx = \\frac{dy}{(1-y)^2}.\n",
    "\\end{equation}\n",
    "\n",
    "Finally\n",
    "\n",
    "\\begin{align}\n",
    "I &= \\int_0^\\infty f(x) dx \\newline\n",
    "&= \\int_{0}^{1} dy\\frac{dy}{(1-y)^2} f\\left(\\frac{y}{1-y}\\right) .\n",
    "\\end{align}\n",
    "\n",
    "### Example\n",
    "Evaluate the integral:\n",
    "\n",
    "\\begin{equation}\n",
    "I = \\int_0^\\infty \\frac{dx}{\\sqrt{x^4+1}}.\n",
    "\\end{equation}\n",
    "\n",
    "Initially it looks like we have a problem as we can't directly evaluate $y/(1-y)$ when $y\\to 1$ numerically. However, defind a new function:\n",
    "\n",
    "\\begin{align}\n",
    "g(y) &= \\frac{1}{(1-y)^2} f\\left(\\frac{y}{1-y}\\right) \\newline\n",
    " &= \\frac{1}{\\sqrt{y^4 + (1-y)^4}}\n",
    "\\end{align}\n",
    "\n",
    "which has no numerical singularities."
   ]
  },
  {
   "cell_type": "code",
   "execution_count": null,
   "metadata": {
    "collapsed": false
   },
   "outputs": [
    {
     "name": "stdout",
     "output_type": "stream",
     "text": [
      "1.85408467737\n"
     ]
    }
   ],
   "source": [
    "def f(x):\n",
    "    return 1.0/np.sqrt(x**4 + 1)\n",
    "\n",
    "def g(y):\n",
    "    return 1.0/np.sqrt(y**4 + (1-y)**4)\n",
    "\n",
    "y = np.linspace(0,1,100000)\n",
    "print(simpsons_rule(g,y))"
   ]
  },
  {
   "cell_type": "markdown",
   "metadata": {},
   "source": [
    "## Scipy.Integrate\n",
    "\n",
    "Much of what we have learned has already been coded up for you in [`scipy.integrate`](https://docs.scipy.org/doc/scipy-0.18.1/reference/integrate.html) and you should learn how to use these routines.  The workhorse is the [`quad`](https://docs.scipy.org/doc/scipy-0.18.1/reference/generated/scipy.integrate.quad.html#scipy.integrate.quad) method which is fast, highly accurate and very flexible.  It returns a tuple giving the result of the integral and an estimate of the error."
   ]
  },
  {
   "cell_type": "code",
   "execution_count": null,
   "metadata": {
    "collapsed": false
   },
   "outputs": [
    {
     "name": "stdout",
     "output_type": "stream",
     "text": [
      "(1.854074677301372, 2.425014482827383e-10)\n"
     ]
    }
   ],
   "source": [
    "from scipy import integrate\n",
    "print(integrate.quad(f, 0, np.inf))"
   ]
  },
  {
   "cell_type": "code",
   "execution_count": null,
   "metadata": {
    "collapsed": true
   },
   "outputs": [],
   "source": []
  }
 ],
 "metadata": {
  "kernelspec": {
   "display_name": "base",
   "language": "python",
   "name": "python3"
  },
  "language_info": {
   "codemirror_mode": {
    "name": "ipython",
    "version": 3
   },
   "file_extension": ".py",
   "mimetype": "text/x-python",
   "name": "python",
   "nbconvert_exporter": "python",
   "pygments_lexer": "ipython3",
   "version": "3.9.20"
  }
 },
 "nbformat": 4,
 "nbformat_minor": 2
}
