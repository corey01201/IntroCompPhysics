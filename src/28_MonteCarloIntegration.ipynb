{
 "cells": [
  {
   "cell_type": "markdown",
   "metadata": {},
   "source": [
    "# Computational Physics\n",
    "## Monte Carlo Integration\n",
    "\n",
    "<img src=\"https://upload.wikimedia.org/wikipedia/commons/8/84/Pi_30K.gif\" width=400px>"
   ]
  },
  {
   "cell_type": "markdown",
   "metadata": {},
   "source": [
    "## Last Time\n",
    "\n",
    "- Simpson's rule\n",
    "- Improper and divergent integrals\n",
    "- `scipy.integrate`\n",
    "\n",
    "## Today\n",
    "- Error scaling for high dimensional quadrature\n",
    "- Integration using random numbers\n"
   ]
  },
  {
   "cell_type": "markdown",
   "metadata": {},
   "source": [
    "## Setting up the Notebook"
   ]
  },
  {
   "cell_type": "code",
   "execution_count": 6,
   "metadata": {
    "collapsed": false
   },
   "outputs": [],
   "source": [
    "import matplotlib.pyplot as plt\n",
    "import numpy as np\n",
    "%matplotlib inline\n",
    "plt.style.use('../include/notebook.mplstyle');\n",
    "%config InlineBackend.figure_format = 'retina'\n",
    "colors = [\"#2078B5\", \"#FF7F0F\", \"#2CA12C\", \"#D72827\", \"#9467BE\", \"#8C574B\",\n",
    "            \"#E478C2\", \"#808080\", \"#BCBE20\", \"#17BED0\", \"#AEC8E9\", \"#FFBC79\", \n",
    "            \"#98E08B\", \"#FF9896\", \"#C6B1D6\", \"#C59D94\", \"#F8B7D3\", \"#C8C8C8\", \n",
    "           \"#DCDC8E\", \"#9EDAE6\"]"
   ]
  },
  {
   "cell_type": "markdown",
   "metadata": {},
   "source": [
    "## Beyond One-Dimension\n",
    "\n",
    "Until now we have performed numerical integrals by approximating them as a disccrete sum over equally sized panels with width:\n",
    "\n",
    "\\begin{equation}\n",
    "\\Delta x = \\frac{b-a}{N}.\n",
    "\\end{equation}\n",
    "\n",
    "### Rectangular\n",
    "\n",
    "\\begin{equation}\n",
    "\\int_a^b f(x) dx = \\frac{b-a}{N} \\sum_{j=0}^{N-1} f\\left(a + \\frac{j(b-a)}{N}\\right) + \\mathrm{O}\\left(\\frac{1}{N}\\right). \n",
    "\\end{equation}\n",
    "\n",
    "### Trapezoidal\n",
    "\n",
    "\\begin{equation}\n",
    "\\int_a^b f(x) dx = \\frac{b-a}{N}\\left [\\frac{1}{2}f(a) +  \\sum_{j=1}^{N-1} f\\left(a + \\frac{j(b-a)}{N}\\right) +\\frac{1}{2}f(b)\\right] + \\mathrm{O}\\left(\\frac{1}{N^2}\\right). \n",
    "\\end{equation}\n",
    "\n",
    "### Simpson\n",
    "\n",
    "\\begin{equation}\n",
    "\\int_a^b f(x) dx = \\frac{b-a}{3N}\\left \\{ f(a) +  \\sum_{j=1}^{N-1}\\left[3-(-1)^j\\right] f\\left(a + \\frac{j(b-a)}{N}\\right) +f(b)\\right\\} + \\mathrm{O}\\left(\\frac{1}{N^4}\\right). \n",
    "\\end{equation}\n",
    "\n",
    "We now ask how these methods scale in higher dimensions, i.e.:\n",
    "\n",
    "\\begin{equation}\n",
    "I = \\int dx_1 \\int dx_2 \\cdots \\int dx_d\\, f(\\vec{x}).\n",
    "\\end{equation}\n",
    "\n",
    "We will need to break up $d$-dimensional space into a grid with $N$ panels in each dimension which will form $M = N^d$ total points at which we must evaulate our function.  If we say a quadrature method is $k^{th}$ order of the error scales as $N^{-k}$ then using this method in $d$ dimensions will lead to an error:\n",
    "\n",
    "\\begin{equation}\n",
    "\\mathrm{Error} \\sim \\frac{1}{N^k} = \\frac{1}{M^{k/d}}.\n",
    "\\end{equation}\n",
    "\n",
    "<br />\n",
    "<div class=\"span alert alert-danger\">\n",
    "This is bad!  An order $k$-scheme in 1-dimension is an order $k/d$ scheme in $d$-dimensions.\n",
    "</div>"
   ]
  },
  {
   "cell_type": "markdown",
   "metadata": {},
   "source": [
    "## Integrals as Averages\n",
    "\n",
    "Consider a $d$-dimensional region of space $\\Omega$ and a function $f: \\mathbb{R}^d \\to \\mathbb{R}$.  We are interested in the integral:\n",
    "\n",
    "\\begin{equation}\n",
    "\\int_{\\Omega} d\\vec{x}\\, f(\\vec{x})\n",
    "\\end{equation}\n",
    "\n",
    "We can re-write the integral as an average of the function over the region $\\Omega$ with the uniform probability:\n",
    "\n",
    "\\begin{equation}\n",
    "P(\\vec{x}) = \\frac{1}{\\int_\\Omega d\\vec{x}}\n",
    "\\end{equation}\n",
    "\n",
    "which gives: \n",
    "\n",
    "\\begin{equation}\n",
    "\\langle f \\rangle_\\Omega =  \\int_{\\Omega} d\\vec{x}\\, P(\\vec{x}) f(\\vec{x}).\n",
    "\\end{equation}\n",
    "\n",
    "If we select $M$ points at random from the uniform distribution $\\vec{x}_i \\in \\mathcal{U}_\\Omega$ then we can approximate the average as:\n",
    "\n",
    "\\begin{equation}\n",
    "I = \\langle f \\rangle_\\Omega \\approx \\frac{1}{M} \\sum_{i=0}^{M-1} f(\\vec{x}_i).\n",
    "\\end{equation}\n",
    "\n",
    "It is just the *average* of the function at a discrete set of points selected uniformly in the region."
   ]
  },
  {
   "cell_type": "markdown",
   "metadata": {},
   "source": [
    "<div class=\"span alert alert-success\">\n",
    "<h2>Programming challenge </h2>\n",
    "Use Monte Carlo integration to aproximate the integral of the $2$-dimensional function $f(\\vec{x})$ on the unit square.\n",
    "</div>\n",
    "\n",
    "\\begin{equation}\n",
    "I = \\int_{-1/2}^{1/2} dx \\int_{-1/2}^{1/2} dx \\mathrm{e}^{-x^2 -y^2 -x^2 y^2}\n",
    "\\end{equation}"
   ]
  },
  {
   "cell_type": "code",
   "execution_count": 8,
   "metadata": {
    "collapsed": false
   },
   "outputs": [
    {
     "name": "stderr",
     "output_type": "stream",
     "text": [
      "<ipython-input-8-1651387bfa4b>:14: MatplotlibDeprecationWarning: The label function was deprecated in Matplotlib 3.1 and will be removed in 3.8. Use Tick.label1 instead.\n",
      "  [t.label.set_fontsize(14) for caxis in [ax.xaxis, ax.yaxis, ax.zaxis] for t in caxis.get_major_ticks()];\n"
     ]
    },
    {
     "data": {
      "text/plain": [
       "<Figure size 864x576 with 0 Axes>"
      ]
     },
     "metadata": {},
     "output_type": "display_data"
    }
   ],
   "source": [
    "from mpl_toolkits.mplot3d import Axes3D\n",
    "\n",
    "fig = plt.figure(figsize=(12,8))\n",
    "# ax = fig.gca(projection='3d')\n",
    "ax = Axes3D(fig)\n",
    "X, Y = np.meshgrid(np.linspace(-2, 2, 100), np.linspace(-2, 2, 100))\n",
    "f = np.exp(-X**2 - Y**2 - X**2*Y**2)\n",
    "surf = ax.plot_surface(X, Y, f, rstride=2, cstride=2, cmap='bwr', linewidth=0, antialiased=True)\n",
    "\n",
    "ax.set_xlabel('x',labelpad=14)\n",
    "ax.set_ylabel('y',labelpad=14)\n",
    "ax.set_zlabel('z',labelpad=14)\n",
    "\n",
    "[t.label.set_fontsize(14) for caxis in [ax.xaxis, ax.yaxis, ax.zaxis] for t in caxis.get_major_ticks()];"
   ]
  },
  {
   "cell_type": "code",
   "execution_count": 13,
   "metadata": {
    "collapsed": false
   },
   "outputs": [
    {
     "name": "stdout",
     "output_type": "stream",
     "text": [
      "I =  0\n"
     ]
    }
   ],
   "source": [
    "def f(x,y):\n",
    "    pass\n",
    "\n",
    "# Number of MC points\n",
    "M = 10000\n",
    "\n",
    "# initialize the integral\n",
    "I = 0\n",
    "\n",
    "\n",
    "\n",
    "print('I = ',I)"
   ]
  },
  {
   "cell_type": "markdown",
   "metadata": {},
   "source": [
    "## Computing the Error\n",
    "\n",
    "The error in computing the integral is now stochastic (as opposed to systematic).  How can we estimate it?\n",
    "\n",
    "Suppose we repeat the process of performing the integral many times, i.e. we generate many sets of $M$ points.  The error will be related to the variance of the resulting values for the average.\n",
    "\n",
    "\\begin{align*}\n",
    "\\sigma_I^2 &= \\langle I^2\\rangle - \\langle I\\rangle^2 \\newline\n",
    "&= \\left\\langle \\left(\\frac{1}{M} \\sum_{i=0}^{M-1} f_i\\right)^2\\right\\rangle - \\left( \\left\\langle \\frac{1}{M} \\sum_{i=0}^{M-1} f_i\\right\\rangle\\right)^2 \\newline\n",
    "&= \\frac{1}{M^2}\\left[\\sum_{i=0}^{M-1} \\sum_{j=0}^{M-1}\\langle f_i f_j \\rangle - \\sum_{i=0}^{M-1} \\sum_{j=0}^{M-1} \\langle f_i \\rangle\\langle f_j \\rangle\\right] \\newline\n",
    "&= \\frac{1}{M^2}\\left[\\sum_{i=0}^{M-1} \\langle f_i^2 \\rangle + \\sum_{i\\ne j}\\langle f_i f_j \\rangle - \\sum_{i=0}^{M-1} \\sum_{j=0}^{M-1} \\langle f_i \\rangle\\langle f_j \\rangle\\right] \\newline\n",
    "\\end{align*}\n",
    "\n",
    "Now, for completely uncorrelated measurements:\n",
    "\n",
    "\\begin{equation}\n",
    "\\langle f_i f_j \\rangle = \\langle f_i \\rangle \\langle f_j \\rangle\n",
    "\\end{equation}\n",
    "\n",
    "and we are left with:\n",
    "\n",
    "\\begin{equation}\n",
    "\\sigma_I^2 = \\frac{1}{M^2} \\sum_{i=0}^{M-1} \\left( \\langle f_i^2 \\rangle - \\langle f_i \\rangle^2\\right).\n",
    "\\end{equation}\n",
    "\n",
    "However, $\\langle \\cdots \\rangle$ manes that we are sampling the function of a large number of *sets* of numbers $\\left\\{\\vec{x}_i\\right\\}$ so:\n",
    "\n",
    "\\begin{equation}\n",
    "\\langle f_i \\rangle = \\langle f \\rangle\n",
    "\\end{equation}\n",
    "\n",
    "and we are left with:\n",
    "\n",
    "\\begin{equation}\n",
    "\\sigma_I^2 =  \\frac{1}{M} \\left(\\langle f_i^2 \\rangle - \\langle f_i \\rangle^2 \\right) = \\frac{\\sigma_f^2}{M}.\n",
    "\\end{equation}\n",
    "\n",
    "This is just a result of the [central limit theorem](https://en.wikipedia.org/wiki/Central_limit_theorem) and shows that the error in our Monte Carlo integration technicle is:\n",
    "\n",
    "\\begin{equation}\n",
    "\\mathrm{O}\\left(\\frac{1}{M^{1/2}}\\right).\n",
    "\\end{equation}\n",
    "\n",
    "Recall that we found for $d$-dimensions, the trapezoidal method had an $\\mathrm{O}(M^{-2/d})$ error, thus Monte Carlo beats trapezoidal for $d>4$.\n",
    "\n",
    "Let's check the error scaling for our previous integral."
   ]
  },
  {
   "cell_type": "code",
   "execution_count": 15,
   "metadata": {
    "collapsed": false
   },
   "outputs": [
    {
     "ename": "TypeError",
     "evalue": "unsupported operand type(s) for /: 'NoneType' and 'int'",
     "output_type": "error",
     "traceback": [
      "\u001b[0;31m---------------------------------------------------------------------------\u001b[0m",
      "\u001b[0;31mTypeError\u001b[0m                                 Traceback (most recent call last)",
      "Input \u001b[0;32mIn [15]\u001b[0m, in \u001b[0;36m<cell line: 14>\u001b[0;34m()\u001b[0m\n\u001b[1;32m     14\u001b[0m \u001b[38;5;28;01mfor\u001b[39;00m trial \u001b[38;5;129;01min\u001b[39;00m \u001b[38;5;28mrange\u001b[39m(trials):\n\u001b[1;32m     15\u001b[0m     \u001b[38;5;28;01mfor\u001b[39;00m j,cM \u001b[38;5;129;01min\u001b[39;00m \u001b[38;5;28menumerate\u001b[39m(M):\n\u001b[0;32m---> 16\u001b[0m         I[trial,j] \u001b[38;5;241m=\u001b[39m \u001b[43mMonte_Carlo_integration\u001b[49m\u001b[43m(\u001b[49m\u001b[43mf\u001b[49m\u001b[43m,\u001b[49m\u001b[43mcM\u001b[49m\u001b[43m)\u001b[49m\n\u001b[1;32m     18\u001b[0m \u001b[38;5;66;03m# compute the average and standard error in the integral\u001b[39;00m\n\u001b[1;32m     19\u001b[0m aveI \u001b[38;5;241m=\u001b[39m np\u001b[38;5;241m.\u001b[39maverage(I,axis\u001b[38;5;241m=\u001b[39m\u001b[38;5;241m0\u001b[39m)\n",
      "Input \u001b[0;32mIn [15]\u001b[0m, in \u001b[0;36mMonte_Carlo_integration\u001b[0;34m(f, M)\u001b[0m\n\u001b[1;32m      1\u001b[0m \u001b[38;5;28;01mdef\u001b[39;00m \u001b[38;5;21mMonte_Carlo_integration\u001b[39m(f,M):\n\u001b[1;32m      2\u001b[0m     r \u001b[38;5;241m=\u001b[39m \u001b[38;5;241m-\u001b[39m\u001b[38;5;241m0.5\u001b[39m \u001b[38;5;241m+\u001b[39m np\u001b[38;5;241m.\u001b[39mrandom\u001b[38;5;241m.\u001b[39mrandom([M,\u001b[38;5;241m2\u001b[39m])\n\u001b[0;32m----> 3\u001b[0m     \u001b[38;5;28;01mreturn\u001b[39;00m \u001b[43mnp\u001b[49m\u001b[38;5;241;43m.\u001b[39;49m\u001b[43maverage\u001b[49m\u001b[43m(\u001b[49m\u001b[43mf\u001b[49m\u001b[43m(\u001b[49m\u001b[43mr\u001b[49m\u001b[43m[\u001b[49m\u001b[43m:\u001b[49m\u001b[43m,\u001b[49m\u001b[38;5;241;43m0\u001b[39;49m\u001b[43m]\u001b[49m\u001b[43m,\u001b[49m\u001b[43mr\u001b[49m\u001b[43m[\u001b[49m\u001b[43m:\u001b[49m\u001b[43m,\u001b[49m\u001b[38;5;241;43m1\u001b[39;49m\u001b[43m]\u001b[49m\u001b[43m)\u001b[49m\u001b[43m)\u001b[49m\n",
      "File \u001b[0;32m<__array_function__ internals>:180\u001b[0m, in \u001b[0;36maverage\u001b[0;34m(*args, **kwargs)\u001b[0m\n",
      "File \u001b[0;32m~/opt/miniconda3/lib/python3.9/site-packages/numpy/lib/function_base.py:518\u001b[0m, in \u001b[0;36maverage\u001b[0;34m(a, axis, weights, returned, keepdims)\u001b[0m\n\u001b[1;32m    515\u001b[0m     keepdims_kw \u001b[38;5;241m=\u001b[39m {\u001b[38;5;124m'\u001b[39m\u001b[38;5;124mkeepdims\u001b[39m\u001b[38;5;124m'\u001b[39m: keepdims}\n\u001b[1;32m    517\u001b[0m \u001b[38;5;28;01mif\u001b[39;00m weights \u001b[38;5;129;01mis\u001b[39;00m \u001b[38;5;28;01mNone\u001b[39;00m:\n\u001b[0;32m--> 518\u001b[0m     avg \u001b[38;5;241m=\u001b[39m \u001b[43ma\u001b[49m\u001b[38;5;241;43m.\u001b[39;49m\u001b[43mmean\u001b[49m\u001b[43m(\u001b[49m\u001b[43maxis\u001b[49m\u001b[43m,\u001b[49m\u001b[43m \u001b[49m\u001b[38;5;241;43m*\u001b[39;49m\u001b[38;5;241;43m*\u001b[39;49m\u001b[43mkeepdims_kw\u001b[49m\u001b[43m)\u001b[49m\n\u001b[1;32m    519\u001b[0m     scl \u001b[38;5;241m=\u001b[39m avg\u001b[38;5;241m.\u001b[39mdtype\u001b[38;5;241m.\u001b[39mtype(a\u001b[38;5;241m.\u001b[39msize\u001b[38;5;241m/\u001b[39mavg\u001b[38;5;241m.\u001b[39msize)\n\u001b[1;32m    520\u001b[0m \u001b[38;5;28;01melse\u001b[39;00m:\n",
      "File \u001b[0;32m~/opt/miniconda3/lib/python3.9/site-packages/numpy/core/_methods.py:192\u001b[0m, in \u001b[0;36m_mean\u001b[0;34m(a, axis, dtype, out, keepdims, where)\u001b[0m\n\u001b[1;32m    190\u001b[0m         ret \u001b[38;5;241m=\u001b[39m ret\u001b[38;5;241m.\u001b[39mdtype\u001b[38;5;241m.\u001b[39mtype(ret \u001b[38;5;241m/\u001b[39m rcount)\n\u001b[1;32m    191\u001b[0m \u001b[38;5;28;01melse\u001b[39;00m:\n\u001b[0;32m--> 192\u001b[0m     ret \u001b[38;5;241m=\u001b[39m \u001b[43mret\u001b[49m\u001b[43m \u001b[49m\u001b[38;5;241;43m/\u001b[39;49m\u001b[43m \u001b[49m\u001b[43mrcount\u001b[49m\n\u001b[1;32m    194\u001b[0m \u001b[38;5;28;01mreturn\u001b[39;00m ret\n",
      "\u001b[0;31mTypeError\u001b[0m: unsupported operand type(s) for /: 'NoneType' and 'int'"
     ]
    }
   ],
   "source": [
    "def Monte_Carlo_integration(f,M):\n",
    "    r = -0.5 + np.random.random([M,2])\n",
    "    return np.average(f(r[:,0],r[:,1]))\n",
    "\n",
    "exact = 0.846008\n",
    "\n",
    "# we consider different numbers of MC points and many trials\n",
    "M = np.array(range(1,100,1))\n",
    "trials = 1000\n",
    "\n",
    "I = np.zeros([trials,M.size])\n",
    "\n",
    "# for each trial and number of points, compute the itegral\n",
    "for trial in range(trials):\n",
    "    for j,cM in enumerate(M):\n",
    "        I[trial,j] = Monte_Carlo_integration(f,cM)\n",
    "\n",
    "# compute the average and standard error in the integral\n",
    "aveI = np.average(I,axis=0)\n",
    "errI = np.std(I,axis=0)/np.sqrt(trials)\n",
    "\n",
    "# the error in the integral\n",
    "error = np.abs(aveI - exact)"
   ]
  },
  {
   "cell_type": "code",
   "execution_count": 14,
   "metadata": {
    "collapsed": false
   },
   "outputs": [
    {
     "ename": "NameError",
     "evalue": "name 'error' is not defined",
     "output_type": "error",
     "traceback": [
      "\u001b[0;31m---------------------------------------------------------------------------\u001b[0m",
      "\u001b[0;31mNameError\u001b[0m                                 Traceback (most recent call last)",
      "Input \u001b[0;32mIn [14]\u001b[0m, in \u001b[0;36m<cell line: 7>\u001b[0;34m()\u001b[0m\n\u001b[1;32m      4\u001b[0m     \u001b[38;5;28;01mreturn\u001b[39;00m a[\u001b[38;5;241m0\u001b[39m]\u001b[38;5;241m/\u001b[39mx\u001b[38;5;241m*\u001b[39m\u001b[38;5;241m*\u001b[39ma[\u001b[38;5;241m1\u001b[39m]\n\u001b[1;32m      6\u001b[0m \u001b[38;5;66;03m# fit to extract the form of the error\u001b[39;00m\n\u001b[0;32m----> 7\u001b[0m a1,a1_cov \u001b[38;5;241m=\u001b[39m curve_fit(fit_func,M,\u001b[43merror\u001b[49m,sigma\u001b[38;5;241m=\u001b[39merrI,p0\u001b[38;5;241m=\u001b[39m(\u001b[38;5;241m1\u001b[39m,\u001b[38;5;241m1\u001b[39m))\n\u001b[1;32m      8\u001b[0m plt\u001b[38;5;241m.\u001b[39mplot(M,fit_func(M,\u001b[38;5;241m*\u001b[39ma1), color\u001b[38;5;241m=\u001b[39mcolors[\u001b[38;5;241m1\u001b[39m], zorder\u001b[38;5;241m=\u001b[39m\u001b[38;5;241m0\u001b[39m, label\u001b[38;5;241m=\u001b[39m\u001b[38;5;124mr\u001b[39m\u001b[38;5;124m'\u001b[39m\u001b[38;5;124m$M^\u001b[39m\u001b[38;5;124m{\u001b[39m\u001b[38;5;124m-\u001b[39m\u001b[38;5;132;01m%2.1f\u001b[39;00m\u001b[38;5;124m}$\u001b[39m\u001b[38;5;124m'\u001b[39m\u001b[38;5;241m%\u001b[39ma1[\u001b[38;5;241m1\u001b[39m])\n\u001b[1;32m     10\u001b[0m \u001b[38;5;66;03m# compare with the calculated value\u001b[39;00m\n",
      "\u001b[0;31mNameError\u001b[0m: name 'error' is not defined"
     ]
    }
   ],
   "source": [
    "from scipy.optimize import curve_fit\n",
    "\n",
    "def fit_func(x,*a):\n",
    "    return a[0]/x**a[1]\n",
    "\n",
    "# fit to extract the form of the error\n",
    "a1,a1_cov = curve_fit(fit_func,M,error,sigma=errI,p0=(1,1))\n",
    "plt.plot(M,fit_func(M,*a1), color=colors[1], zorder=0, label=r'$M^{-%2.1f}$'%a1[1])\n",
    "\n",
    "# compare with the calculated value\n",
    "plt.errorbar(M,error,yerr=errI, marker='o', capsize=0, elinewidth=1, mec=colors[0], \n",
    "             mfc=colors[0], ms=6, linestyle='None', ecolor=colors[0], label='Monte Carlo Integration')\n",
    "\n",
    "plt.ylabel('Error')\n",
    "plt.xlabel('Number MC Points')\n",
    "plt.legend(loc='upper right')"
   ]
  },
  {
   "cell_type": "code",
   "execution_count": null,
   "metadata": {
    "collapsed": true
   },
   "outputs": [],
   "source": []
  }
 ],
 "metadata": {
  "kernelspec": {
   "display_name": "base",
   "language": "python",
   "name": "python3"
  },
  "language_info": {
   "codemirror_mode": {
    "name": "ipython",
    "version": 3
   },
   "file_extension": ".py",
   "mimetype": "text/x-python",
   "name": "python",
   "nbconvert_exporter": "python",
   "pygments_lexer": "ipython3",
   "version": "3.9.6"
  }
 },
 "nbformat": 4,
 "nbformat_minor": 2
}
