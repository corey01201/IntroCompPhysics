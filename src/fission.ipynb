{
 "cells": [
  {
   "cell_type": "markdown",
   "metadata": {},
   "source": [
    "# For fun: a Monte-Carlo Particle gun\n",
    "\n",
    "In the beginnings of nuclear applications it was quickly realized that random number generators offer a powerful tool to describe the intrinsically probabilistic nature of quantum mechanics. \n",
    "\n",
    "The most famous example is the calculation of neutron densities in fissile material during the Manhattan project, from which the term Monte-Carlo simualtions originates.\n",
    "\n",
    "Assuming that the thermal neutron induced fission cross section of 235U is 1 barn, 235U neutron induced fission emits fast neutrons with a probability of P1n=0.1,P2n=0.5, P3n=0.4, and the thermalization probability of those fast neutrons is 0.1 per generation, calculate the neutron density of 2 kg of 90% enriched 235U after 10000 generations. Assume the fission chain was started in first generation by the fission of 1e3 235U nuclei.\n"
   ]
  }
 ],
 "metadata": {
  "kernelspec": {
   "display_name": "base",
   "language": "python",
   "name": "python3"
  },
  "language_info": {
   "name": "python",
   "version": "3.9.20"
  }
 },
 "nbformat": 4,
 "nbformat_minor": 2
}
