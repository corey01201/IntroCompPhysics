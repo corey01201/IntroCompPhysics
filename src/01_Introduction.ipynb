{
 "cells": [
  {
   "cell_type": "markdown",
   "metadata": {},
   "source": [
    "# Physics 256 - Computational Physics\n",
    "## Lecture 01 - Some Featuers"
   ]
  },
  {
   "cell_type": "markdown",
   "metadata": {},
   "source": [
    "### Querying python floats"
   ]
  },
  {
   "cell_type": "code",
   "execution_count": 9,
   "metadata": {
    "collapsed": false,
    "jupyter": {
     "outputs_hidden": false
    }
   },
   "outputs": [
    {
     "data": {
      "text/plain": [
       "sys.float_info(max=1.7976931348623157e+308, max_exp=1024, max_10_exp=308, min=2.2250738585072014e-308, min_exp=-1021, min_10_exp=-307, dig=15, mant_dig=53, epsilon=2.220446049250313e-16, radix=2, rounds=1)"
      ]
     },
     "execution_count": 9,
     "metadata": {},
     "output_type": "execute_result"
    }
   ],
   "source": [
    "import sys\n",
    "sys.float_info"
   ]
  },
  {
   "cell_type": "markdown",
   "metadata": {},
   "source": [
    "### Python Dynamic Typing\n",
    "\n",
    "\\begin{align}\n",
    "f(N) &= \\sum_{n=1}^{N} \\frac{1}{n} \\\\\n",
    "&= \\sum_{n=N}^{1} \\frac{1}{n}\n",
    "\\end{align}\n",
    "\n",
    "$$ f(100) = \\frac{14466636279520351160221518043104131447711}{2788815009188499086581352357412492142272}\n",
    "$$"
   ]
  },
  {
   "cell_type": "code",
   "execution_count": 10,
   "metadata": {
    "collapsed": false,
    "jupyter": {
     "outputs_hidden": false
    }
   },
   "outputs": [
    {
     "name": "stdout",
     "output_type": "stream",
     "text": [
      "f(100)  = 5.1873775176396206\n",
      "s1      = 5.1873775176396206\n",
      "s2      = 5.1873775176396215\n",
      "|s1-s2| = 8.88E-16\n"
     ]
    }
   ],
   "source": [
    "N = 100\n",
    "\n",
    "# the exact answer for N = 100\n",
    "f100 = 14466636279520351160221518043104131447711 / 2788815009188499086581352357412492142272\n",
    "\n",
    "# initialize the sums\n",
    "s1 = 0.0\n",
    "s2 = 0.0\n",
    "\n",
    "# forward sum\n",
    "for n in range(1,N+1):\n",
    "    s1 += 1.0/n\n",
    "\n",
    "# backward sum\n",
    "for n in range(N,0,-1):\n",
    "    s2 += 1.0/n\n",
    "\n",
    "# output results\n",
    "print(f'f(100)  = {f100:.16f}')\n",
    "print(f's1      = {s1:.16f}')\n",
    "print(f's2      = {s2:.16f}')\n",
    "print(f'|s1-s2| = {abs(s1-s2):.2E}')"
   ]
  },
  {
   "cell_type": "markdown",
   "metadata": {},
   "source": [
    "### The Mandelbrot Set\n",
    "\n",
    "$$ f(z) = z^2 + z_0 $$\n",
    "\n",
    "Consider the sequence: \n",
    "\n",
    "$$\\mathcal{M} = (0,f(0),f(f(0)),\\ldots)$$\n",
    "\n",
    "We are interested in the resulting set of complex numbers $\\mathcal{M}$ which does not diverge under some number or recursive interations $L$. \n",
    "\n",
    "We can thus iterate until $|\\mathcal{M}| < \\mathcal{M}_{\\rm max}$ and plot the resulting final values.\n",
    "\n"
   ]
  },
  {
   "cell_type": "code",
   "execution_count": 11,
   "metadata": {
    "collapsed": true,
    "jupyter": {
     "outputs_hidden": true
    }
   },
   "outputs": [
    {
     "ename": "ModuleNotFoundError",
     "evalue": "No module named 'numpy'",
     "output_type": "error",
     "traceback": [
      "\u001b[0;31m---------------------------------------------------------------------------\u001b[0m",
      "\u001b[0;31mModuleNotFoundError\u001b[0m                       Traceback (most recent call last)",
      "Cell \u001b[0;32mIn[11], line 1\u001b[0m\n\u001b[0;32m----> 1\u001b[0m \u001b[38;5;28;01mimport\u001b[39;00m \u001b[38;5;21;01mnumpy\u001b[39;00m \u001b[38;5;28;01mas\u001b[39;00m \u001b[38;5;21;01mnp\u001b[39;00m\n\u001b[1;32m      2\u001b[0m \u001b[38;5;28;01mimport\u001b[39;00m \u001b[38;5;21;01mmatplotlib\u001b[39;00m\u001b[38;5;21;01m.\u001b[39;00m\u001b[38;5;21;01mpyplot\u001b[39;00m \u001b[38;5;28;01mas\u001b[39;00m \u001b[38;5;21;01mplt\u001b[39;00m\n\u001b[1;32m      3\u001b[0m get_ipython()\u001b[38;5;241m.\u001b[39mrun_line_magic(\u001b[38;5;124m'\u001b[39m\u001b[38;5;124mmatplotlib\u001b[39m\u001b[38;5;124m'\u001b[39m, \u001b[38;5;124m'\u001b[39m\u001b[38;5;124minline\u001b[39m\u001b[38;5;124m'\u001b[39m)\n",
      "\u001b[0;31mModuleNotFoundError\u001b[0m: No module named 'numpy'"
     ]
    }
   ],
   "source": [
    "import numpy as np\n",
    "import matplotlib.pyplot as plt\n",
    "%matplotlib inline"
   ]
  },
  {
   "cell_type": "code",
   "execution_count": null,
   "metadata": {
    "collapsed": true,
    "jupyter": {
     "outputs_hidden": true
    }
   },
   "outputs": [],
   "source": [
    "%config InlineBackend.image_format='svg'\n",
    "#plt.style.use('../include/notebook.mplstyle')"
   ]
  },
  {
   "cell_type": "code",
   "execution_count": null,
   "metadata": {
    "collapsed": false,
    "jupyter": {
     "outputs_hidden": false
    }
   },
   "outputs": [
    {
     "ename": "NameError",
     "evalue": "name 'np' is not defined",
     "output_type": "error",
     "traceback": [
      "\u001b[0;31m---------------------------------------------------------------------------\u001b[0m",
      "\u001b[0;31mNameError\u001b[0m                                 Traceback (most recent call last)",
      "Cell \u001b[0;32mIn[7], line 5\u001b[0m\n\u001b[1;32m      2\u001b[0m Mmax \u001b[38;5;241m=\u001b[39m \u001b[38;5;241m100\u001b[39m\n\u001b[1;32m      3\u001b[0m L \u001b[38;5;241m=\u001b[39m \u001b[38;5;241m75\u001b[39m\n\u001b[0;32m----> 5\u001b[0m mbset \u001b[38;5;241m=\u001b[39m \u001b[43mnp\u001b[49m\u001b[38;5;241m.\u001b[39mzeros([N,N])\n\u001b[1;32m      7\u001b[0m x,y \u001b[38;5;241m=\u001b[39m np\u001b[38;5;241m.\u001b[39mlinspace(\u001b[38;5;241m-\u001b[39m\u001b[38;5;241m2\u001b[39m,\u001b[38;5;241m1\u001b[39m,N),np\u001b[38;5;241m.\u001b[39mlinspace(\u001b[38;5;241m-\u001b[39m\u001b[38;5;241m1\u001b[39m,\u001b[38;5;241m1\u001b[39m,N)\n\u001b[1;32m      8\u001b[0m \u001b[38;5;28;01mfor\u001b[39;00m j,cx \u001b[38;5;129;01min\u001b[39;00m \u001b[38;5;28menumerate\u001b[39m(x):\n",
      "\u001b[0;31mNameError\u001b[0m: name 'np' is not defined"
     ]
    }
   ],
   "source": [
    "N = 500\n",
    "Mmax = 100\n",
    "L = 75\n",
    "\n",
    "mbset = np.zeros([N,N])\n",
    "\n",
    "x,y = np.linspace(-2,1,N),np.linspace(-1,1,N)\n",
    "for j,cx in enumerate(x):\n",
    "    for i,cy in enumerate(y):\n",
    "        zₒ = cx + 1j*cy\n",
    "        z = 0\n",
    "        for m in range(L):\n",
    "            if np.abs(z) > Mmax:\n",
    "                break\n",
    "            z = z*z + zₒ\n",
    "            \n",
    "        mbset[i,j] = 1.0/m\n",
    "    \n",
    "plt.imshow(mbset, extent=[-2,1,-1,1], cmap='Spectral_r')\n",
    "plt.colorbar()\n",
    "plt.xlabel(r'Re $z_0$')\n",
    "plt.ylabel(r'Im $z_0$')"
   ]
  },
  {
   "cell_type": "code",
   "execution_count": null,
   "metadata": {
    "collapsed": true,
    "jupyter": {
     "outputs_hidden": true
    }
   },
   "outputs": [],
   "source": []
  }
 ],
 "metadata": {
  "kernelspec": {
   "display_name": "Python 3",
   "language": "python",
   "name": "python3"
  },
  "language_info": {
   "codemirror_mode": {
    "name": "ipython",
    "version": 3
   },
   "file_extension": ".py",
   "mimetype": "text/x-python",
   "name": "python",
   "nbconvert_exporter": "python",
   "pygments_lexer": "ipython3",
   "version": "3.11.7"
  }
 },
 "nbformat": 4,
 "nbformat_minor": 4
}
