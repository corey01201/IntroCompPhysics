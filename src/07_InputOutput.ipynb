{
 "cells": [
  {
   "cell_type": "markdown",
   "metadata": {},
   "source": [
    "# Computational Physics\n",
    "## Lecture 07 - Modules, filesystem & I/O"
   ]
  },
  {
   "cell_type": "markdown",
   "metadata": {},
   "source": [
    "<img src=\"http://upload.wikimedia.org/wikipedia/commons/d/d4/Pi_pie2.jpg\" width=300px>"
   ]
  },
  {
   "cell_type": "code",
   "execution_count": 2,
   "metadata": {},
   "outputs": [],
   "source": [
    "# import style\n",
    "# style._set_css_style('../include/bootstrap.css')"
   ]
  },
  {
   "cell_type": "markdown",
   "metadata": {},
   "source": [
    "## Last Time\n",
    "\n",
    "### [Notebook Link: 06_FunctionsModules.ipynb](./06_FunctionsModules.ipynb)\n",
    "\n",
    "- functions\n",
    "- introduction to modules\n",
    "\n",
    "## Today\n",
    "- more modules\n",
    "- working with the filesystem\n",
    "- input and output\n"
   ]
  },
  {
   "cell_type": "markdown",
   "metadata": {},
   "source": [
    "### Writing modules\n",
    "\n",
    "Any code or collection of methods we write can be included in a module by writing them in a text editor (i.e. not in the iPython notebook or interpreter) and saving them with a unqiue filename `mymodule.py`.  We can treat these as complete python programs that can be run, or we can import them from other scripts to maximize effeciency and build collections of useful libraries.\n",
    "\n",
    "Modules and scripts can both named `mymodule.py` and both can contain variables, functions/methods and classes.\n",
    "\n",
    "** What's the difference?**\n",
    "\n",
    "* When imported, a module's `__name__` attribute is set to the module's file name, without *.py*.\n",
    "* When executed as a script, the `__name__` attribute is set to `__main__`.\n",
    "* Except for special cases, you shouldn't put any major executable code at the top-level. \n",
    "* Put code in functions, classes, methods, and guard it with if `__name__ == \"__main__\"`."
   ]
  },
  {
   "cell_type": "code",
   "execution_count": 3,
   "metadata": {
    "collapsed": false,
    "jupyter": {
     "outputs_hidden": false
    }
   },
   "outputs": [
    {
     "name": "stdout",
     "output_type": "stream",
     "text": [
      "1\n"
     ]
    }
   ],
   "source": [
    "# %load ../include/mymodule.py\n",
    "'''\n",
    "A python module to exhibit the use of the __main__ name.\n",
    "'''\n",
    "\n",
    "def foo():\n",
    "    ''' A test function. '''\n",
    "    return 1\n",
    "\n",
    "# Main Function\n",
    "def main():\n",
    "    # put all your main program driver code here\n",
    "    print(foo())\n",
    "    \n",
    "# main is called once when the script is executed.    \n",
    "if __name__ == '__main__':\n",
    "    main()\n"
   ]
  },
  {
   "cell_type": "code",
   "execution_count": 4,
   "metadata": {
    "collapsed": false,
    "jupyter": {
     "outputs_hidden": false
    }
   },
   "outputs": [
    {
     "data": {
      "text/plain": [
       "1"
      ]
     },
     "execution_count": 4,
     "metadata": {},
     "output_type": "execute_result"
    }
   ],
   "source": [
    "# then from another script (or from the iPython notebook) \n",
    "# we can import the functions defined in this script\n",
    "\n",
    "# we need to tell python where the script lives, via the sys module\n",
    "import sys\n",
    "sys.path.append('../include')\n",
    "\n",
    "import mymodule\n",
    "\n",
    "mymodule.foo()"
   ]
  },
  {
   "cell_type": "markdown",
   "metadata": {},
   "source": [
    "## Computing $\\pi$\n",
    "\n",
    "Let's put these ideas into practice by writing a module containing functions that compute the value of $\\pi$ in various ways."
   ]
  },
  {
   "cell_type": "markdown",
   "metadata": {},
   "source": [
    "### Gottfried Wilhelm Leibniz 1646-1716\n",
    "<img src=\"http://upload.wikimedia.org/wikipedia/commons/6/6a/Gottfried_Wilhelm_von_Leibniz.jpg\" width=200px>\n",
    "\n",
    "\\begin{equation}\n",
    "\\pi = 4 \\sum_{n=1}^\\infty \\frac{(-1)^{n+1}}{2n-1}\n",
    "\\end{equation}\n",
    "\n",
    "### Abraham Sharp 1653-1742\n",
    "<img src=\"http://upload.wikimedia.org/wikipedia/commons/4/43/Sharp_Abraham.jpg\" width=200px>\n",
    "\n",
    "\\begin{equation}\n",
    "\\pi = \\sum_{n=0}^\\infty \\frac{2(-1)^{n}3^{1/2-n}}{2n+1}\n",
    "\\end{equation}\n",
    "\n",
    "### Monte Carlo Calculation using `random.random()`\n",
    "<img src=\"http://upload.wikimedia.org/wikipedia/commons/thumb/c/ce/Circle_Area.svg/265px-Circle_Area.svg.png\" width=\"200px\">\n",
    "<img src=\"http://upload.wikimedia.org/wikipedia/commons/8/84/Pi_30K.gif\" width=\"200px\">\n"
   ]
  },
  {
   "cell_type": "code",
   "execution_count": 5,
   "metadata": {
    "collapsed": false,
    "jupyter": {
     "outputs_hidden": false
    }
   },
   "outputs": [
    {
     "ename": "IndentationError",
     "evalue": "expected an indented block after function definition on line 13 (2019874238.py, line 16)",
     "output_type": "error",
     "traceback": [
      "\u001b[1;36m  Cell \u001b[1;32mIn[5], line 16\u001b[1;36m\u001b[0m\n\u001b[1;33m    if __name__ == '__main__':\u001b[0m\n\u001b[1;37m    ^\u001b[0m\n\u001b[1;31mIndentationError\u001b[0m\u001b[1;31m:\u001b[0m expected an indented block after function definition on line 13\n"
     ]
    }
   ],
   "source": [
    "%load pi.py\n",
    "import random\n",
    "\n",
    "def leibniz(steps):\n",
    "    inCircle = 0\n",
    "    for i in range(steps):\n",
    "        a = random.random()\n",
    "        b = random.random()\n",
    "        if a ** 2 + b **2 <= 1:\n",
    "            inCircle += 1\n",
    "    return 4 * inCircle / steps\n",
    "\n",
    "def main(steps):\n",
    "    \n",
    "\n",
    "if __name__ == '__main__':\n",
    "    main()\n",
    "    "
   ]
  },
  {
   "cell_type": "code",
   "execution_count": null,
   "metadata": {
    "collapsed": false,
    "jupyter": {
     "outputs_hidden": false
    }
   },
   "outputs": [
    {
     "ename": "TypeError",
     "evalue": "leibniz() missing 1 required positional argument: 'steps'",
     "output_type": "error",
     "traceback": [
      "\u001b[1;31m---------------------------------------------------------------------------\u001b[0m",
      "\u001b[1;31mTypeError\u001b[0m                                 Traceback (most recent call last)",
      "File \u001b[1;32m~\\IntroCompPhysics\\src\\pi.py:17\u001b[0m\n\u001b[0;32m     15\u001b[0m \u001b[38;5;28;01mif\u001b[39;00m \u001b[38;5;18m__name__\u001b[39m \u001b[38;5;241m==\u001b[39m \u001b[38;5;124m'\u001b[39m\u001b[38;5;124m__main__\u001b[39m\u001b[38;5;124m'\u001b[39m:\n\u001b[0;32m     16\u001b[0m     main()\n\u001b[1;32m---> 17\u001b[0m     \u001b[43mleibniz\u001b[49m\u001b[43m(\u001b[49m\u001b[43m)\u001b[49m\n",
      "\u001b[1;31mTypeError\u001b[0m: leibniz() missing 1 required positional argument: 'steps'"
     ]
    },
    {
     "name": "stdout",
     "output_type": "stream",
     "text": [
      "CPU times: total: 15.6 ms\n",
      "Wall time: 10 ms\n"
     ]
    }
   ],
   "source": [
    "%time %run pi.py"
   ]
  },
  {
   "cell_type": "code",
   "execution_count": null,
   "metadata": {
    "collapsed": false,
    "jupyter": {
     "outputs_hidden": false
    }
   },
   "outputs": [
    {
     "name": "stdout",
     "output_type": "stream",
     "text": [
      "CPU times: total: 0 ns\n",
      "Wall time: 4.01 ms\n",
      "pi\n"
     ]
    }
   ],
   "source": [
    "import pi\n",
    "%time pi.main()\n",
    "print(pi.__name__)"
   ]
  },
  {
   "cell_type": "markdown",
   "metadata": {},
   "source": [
    "Let's compare the accuracy of our various methods"
   ]
  },
  {
   "cell_type": "code",
   "execution_count": null,
   "metadata": {
    "collapsed": false,
    "jupyter": {
     "outputs_hidden": false
    }
   },
   "outputs": [
    {
     "ename": "AttributeError",
     "evalue": "module 'pi' has no attribute 'leibniz'",
     "output_type": "error",
     "traceback": [
      "\u001b[1;31m---------------------------------------------------------------------------\u001b[0m",
      "\u001b[1;31mAttributeError\u001b[0m                            Traceback (most recent call last)",
      "Cell \u001b[1;32mIn[58], line 4\u001b[0m\n\u001b[0;32m      1\u001b[0m N \u001b[38;5;241m=\u001b[39m [\u001b[38;5;241m10\u001b[39m\u001b[38;5;241m*\u001b[39m\u001b[38;5;241m*\u001b[39mn \u001b[38;5;28;01mfor\u001b[39;00m n \u001b[38;5;129;01min\u001b[39;00m \u001b[38;5;28mrange\u001b[39m(\u001b[38;5;241m3\u001b[39m,\u001b[38;5;241m7\u001b[39m)]\n\u001b[0;32m      3\u001b[0m \u001b[38;5;66;03m# Get the Leibniz, Sharp and Monte Carlo approximations to pi\u001b[39;00m\n\u001b[1;32m----> 4\u001b[0m π \u001b[38;5;241m=\u001b[39m [(\u001b[43mpi\u001b[49m\u001b[38;5;241;43m.\u001b[39;49m\u001b[43mleibniz\u001b[49m(cN),pi\u001b[38;5;241m.\u001b[39msharp(cN),pi\u001b[38;5;241m.\u001b[39mmonte_carlo(cN)) \u001b[38;5;28;01mfor\u001b[39;00m cN \u001b[38;5;129;01min\u001b[39;00m N]\n\u001b[0;32m      6\u001b[0m \u001b[38;5;66;03m# Output the results to the terminal\u001b[39;00m\n\u001b[0;32m      7\u001b[0m \u001b[38;5;28mprint\u001b[39m(\u001b[38;5;124mf\u001b[39m\u001b[38;5;124m'\u001b[39m\u001b[38;5;132;01m{\u001b[39;00m\u001b[38;5;124m\"\u001b[39m\u001b[38;5;124mN\u001b[39m\u001b[38;5;124m\"\u001b[39m\u001b[38;5;132;01m:\u001b[39;00m\u001b[38;5;124m>16\u001b[39m\u001b[38;5;132;01m}\u001b[39;00m\u001b[38;5;132;01m{\u001b[39;00m\u001b[38;5;124m\"\u001b[39m\u001b[38;5;124mLeibniz  π\u001b[39m\u001b[38;5;124m\"\u001b[39m\u001b[38;5;132;01m:\u001b[39;00m\u001b[38;5;124m>16\u001b[39m\u001b[38;5;132;01m}\u001b[39;00m\u001b[38;5;132;01m{\u001b[39;00m\u001b[38;5;124m\"\u001b[39m\u001b[38;5;124mSharp  π\u001b[39m\u001b[38;5;124m\"\u001b[39m\u001b[38;5;132;01m:\u001b[39;00m\u001b[38;5;124m>16\u001b[39m\u001b[38;5;132;01m}\u001b[39;00m\u001b[38;5;132;01m{\u001b[39;00m\u001b[38;5;124m\"\u001b[39m\u001b[38;5;124mMonte Carlo π\u001b[39m\u001b[38;5;124m\"\u001b[39m\u001b[38;5;132;01m:\u001b[39;00m\u001b[38;5;124m>16\u001b[39m\u001b[38;5;132;01m}\u001b[39;00m\u001b[38;5;124m'\u001b[39m)\n",
      "\u001b[1;31mAttributeError\u001b[0m: module 'pi' has no attribute 'leibniz'"
     ]
    }
   ],
   "source": [
    "N = [10**n for n in range(3,7)]\n",
    "\n",
    "# Get the Leibniz, Sharp and Monte Carlo approximations to pi\n",
    "π = [(pi.leibniz(cN),pi.sharp(cN),pi.monte_carlo(cN)) for cN in N]\n",
    "\n",
    "# Output the results to the terminal\n",
    "print(f'{\"N\":>16}{\"Leibniz  π\":>16}{\"Sharp  π\":>16}{\"Monte Carlo π\":>16}')\n",
    "for i,cN in enumerate(N):\n",
    "    print(f'{cN:>16d}{π[i][0]:>16.8f}{π[i][1]:>16.8f}{π[i][2]:>16.8f}')"
   ]
  },
  {
   "cell_type": "markdown",
   "metadata": {},
   "source": [
    "## Accessing the Filesytem\n",
    "\n",
    "It can be very useful to use python to work with the filesystem.  This is most conveniently done with the use of two standard library modules:"
   ]
  },
  {
   "cell_type": "code",
   "execution_count": null,
   "metadata": {
    "collapsed": true,
    "jupyter": {
     "outputs_hidden": true
    }
   },
   "outputs": [],
   "source": [
    "import os\n",
    "import shutil"
   ]
  },
  {
   "cell_type": "markdown",
   "metadata": {},
   "source": [
    "### List all files in a directory"
   ]
  },
  {
   "cell_type": "code",
   "execution_count": null,
   "metadata": {
    "collapsed": false,
    "jupyter": {
     "outputs_hidden": false
    }
   },
   "outputs": [
    {
     "name": "stdout",
     "output_type": "stream",
     "text": [
      ".DS_Store\n",
      "01_Introduction.ipynb\n",
      "02_BasicPython.ipynb\n",
      "03_Containers.ipynb\n",
      "04_DictionariesControl.ipynb\n",
      "05_Functions.ipynb\n",
      "06_FunctionsModules.ipynb\n",
      "07_InputOutput.ipynb\n",
      "pi.py\n",
      "string_formatting.ipynb\n",
      "style.py\n",
      "__pycache__\n"
     ]
    }
   ],
   "source": [
    "list_path = '.'\n",
    "for f in os.listdir(list_path):\n",
    "    print(f)"
   ]
  },
  {
   "cell_type": "code",
   "execution_count": null,
   "metadata": {
    "collapsed": false,
    "jupyter": {
     "outputs_hidden": false
    }
   },
   "outputs": [
    {
     "name": "stdout",
     "output_type": "stream",
     "text": [
      ".DS_Store\n",
      "01_Introduction.ipynb\n",
      "02_BasicPython.ipynb\n",
      "03_Containers.ipynb\n",
      "04_DictionariesControl.ipynb\n",
      "05_Functions.ipynb\n",
      "06_FunctionsModules.ipynb\n",
      "07_InputOutput.ipynb\n",
      "pi.py\n",
      "string_formatting.ipynb\n",
      "style.py\n"
     ]
    }
   ],
   "source": [
    "# what if we only want the files (and not directories?)\n",
    "for f in os.listdir(list_path):\n",
    "    if os.path.isfile(os.path.join(list_path,f)):\n",
    "        print(f)"
   ]
  },
  {
   "cell_type": "markdown",
   "metadata": {},
   "source": [
    "### Creating a directory"
   ]
  },
  {
   "cell_type": "code",
   "execution_count": null,
   "metadata": {
    "collapsed": false,
    "jupyter": {
     "outputs_hidden": false
    }
   },
   "outputs": [],
   "source": [
    "example_num = 2\n",
    "dir_name = f'examples{os.path.sep}example{example_num:02d}'\n",
    "if not os.path.exists(dir_name):\n",
    "    os.makedirs(dir_name)"
   ]
  },
  {
   "cell_type": "markdown",
   "metadata": {},
   "source": [
    "### Copy (or move) files"
   ]
  },
  {
   "cell_type": "code",
   "execution_count": null,
   "metadata": {
    "collapsed": true,
    "jupyter": {
     "outputs_hidden": true
    }
   },
   "outputs": [],
   "source": [
    "for f in os.listdir(list_path):\n",
    "    extension = os.path.splitext(f)[-1]\n",
    "    if extension == '.py':\n",
    "        dest = dir_name + os.path.sep + f\n",
    "        src = list_path + os.path.sep + f\n",
    "        shutil.copy(src,dest)  "
   ]
  },
  {
   "cell_type": "markdown",
   "metadata": {},
   "source": [
    "### Can even create archive files (see the `shutil` help docs)"
   ]
  },
  {
   "cell_type": "code",
   "execution_count": 18,
   "metadata": {
    "collapsed": false,
    "jupyter": {
     "outputs_hidden": false
    }
   },
   "outputs": [
    {
     "data": {
      "text/plain": [
       "'c:\\\\Users\\\\corey\\\\IntroCompPhysics\\\\src\\\\example_archive.tar'"
      ]
     },
     "execution_count": 18,
     "metadata": {},
     "output_type": "execute_result"
    }
   ],
   "source": [
    "shutil.make_archive('example_archive', 'tar', '.', 'examples')"
   ]
  },
  {
   "cell_type": "markdown",
   "metadata": {},
   "source": [
    "<div class=\"span alert alert-success\">\n",
    "<h2> Team programming challenge </h2> <br />\n",
    "\n",
    "Write a program that produces the appropriately named .tar archive for your assignment\n",
    "solutions.\n",
    "\n",
    "You will need to:\n",
    "<ul>\n",
    "<li>specify a source directory where your solutions are located</li>\n",
    "<li>specify the assignment number</li>\n",
    "<li>create the target directories: Lastname_I/A0X/</li>\n",
    "<li>copy the solution files into the target directory</li>\n",
    "<li>create the .zip file</li>\n",
    "<li>perform any required clean up </li>\n",
    "</ul>\n",
    "</div>"
   ]
  },
  {
   "cell_type": "code",
   "execution_count": null,
   "metadata": {},
   "outputs": [
    {
     "name": "stdout",
     "output_type": "stream",
     "text": [
      "Fox_I/AO3\n"
     ]
    }
   ],
   "source": [
    "import os\n",
    "import shutil\n",
    "source_dir = \".\"\n",
    "assignment_num = 3\n",
    "assignment_file = os.listdir(source_dir)[assignment_num]\n",
    "dir_name = f'Fox_I/AO{assignment_num}'\n",
    "if not os.path.exists(dir_name):\n",
    "    os.makedirs(dir_name)\n",
    "dest = dir_name + os.path.sep + assignment_file\n",
    "src = source_dir + os.path.sep + assignment_file\n",
    "shutil.make_archive(assignment_file, 'zip', '.' ,'./Fox_I/AO3')\n",
    "shutil.make_archive(assignment_file, 'tar', '.' ,dir_name)\n",
    "#shutil.copy(src,dest)\n",
    "print(dir_name)\n",
    "\n"
   ]
  },
  {
   "cell_type": "code",
   "execution_count": null,
   "metadata": {
    "collapsed": true,
    "jupyter": {
     "outputs_hidden": true
    }
   },
   "outputs": [],
   "source": [
    "%load solutions/makezip.py"
   ]
  },
  {
   "cell_type": "markdown",
   "metadata": {},
   "source": [
    "### Expanding home directory shortcut\n"
   ]
  },
  {
   "cell_type": "code",
   "execution_count": null,
   "metadata": {
    "collapsed": false,
    "jupyter": {
     "outputs_hidden": false
    }
   },
   "outputs": [],
   "source": [
    "print(os.path.expanduser('~/'))"
   ]
  },
  {
   "cell_type": "markdown",
   "metadata": {},
   "source": [
    "## Input & Output\n",
    "\n",
    "So far, we have mostly been setting the values of variables used in our programs by hand and writing things to the terminal with the `print()` function.  We can use python to easily get data from a user, either form the command line, or from a file, and save our program output to a well-formatted file."
   ]
  },
  {
   "cell_type": "code",
   "execution_count": null,
   "metadata": {
    "collapsed": false,
    "jupyter": {
     "outputs_hidden": false
    }
   },
   "outputs": [],
   "source": [
    "# asking the user for input\n",
    "N = input(\"Number of elements: \")\n",
    "print(N)"
   ]
  },
  {
   "cell_type": "code",
   "execution_count": null,
   "metadata": {
    "collapsed": false,
    "jupyter": {
     "outputs_hidden": false
    }
   },
   "outputs": [],
   "source": [
    "# all input is treating like a string\n",
    "print(type(N))"
   ]
  },
  {
   "cell_type": "code",
   "execution_count": null,
   "metadata": {
    "collapsed": false,
    "jupyter": {
     "outputs_hidden": false
    }
   },
   "outputs": [],
   "source": [
    "# we must manually convert if we need numerical data\n",
    "Ni = int(N)\n",
    "print(Ni)\n",
    "\n",
    "Nf = float(N)\n",
    "print(Nf)\n",
    "\n",
    "N = float(input(\"enter a float: \"))\n",
    "print(type(N))"
   ]
  },
  {
   "cell_type": "markdown",
   "metadata": {},
   "source": [
    "### Working with files\n",
    "We can use the keyword `open` to open a file, but we must specify the mode, either `r` for read, `w` for write `r+` for read/write and `a` for append"
   ]
  },
  {
   "cell_type": "code",
   "execution_count": 14,
   "metadata": {
    "collapsed": false,
    "jupyter": {
     "outputs_hidden": false
    }
   },
   "outputs": [
    {
     "name": "stderr",
     "output_type": "stream",
     "text": [
      "'cat' is not recognized as an internal or external command,\n",
      "operable program or batch file.\n"
     ]
    }
   ],
   "source": [
    "!cat '../data/in.dat'"
   ]
  },
  {
   "cell_type": "code",
   "execution_count": null,
   "metadata": {
    "collapsed": false,
    "jupyter": {
     "outputs_hidden": false
    }
   },
   "outputs": [],
   "source": [
    "in_file = open('../data/in.dat', 'r')"
   ]
  },
  {
   "cell_type": "code",
   "execution_count": null,
   "metadata": {
    "collapsed": false,
    "jupyter": {
     "outputs_hidden": false
    }
   },
   "outputs": [],
   "source": [
    "# reading an entire file\n",
    "print(in_file.read())\n",
    "\n",
    "# we close when we are finished\n",
    "in_file.close()"
   ]
  },
  {
   "cell_type": "code",
   "execution_count": null,
   "metadata": {
    "collapsed": false,
    "jupyter": {
     "outputs_hidden": false
    }
   },
   "outputs": [],
   "source": [
    "# alternatively, we can open a file within a context\n",
    "with open('../data/in.dat', 'r') as f:\n",
    "    read_data = f.read()\n",
    "    print(read_data)\n",
    "    \n",
    "# the file is automatically closed when we leave the with context\n",
    "print(f.closed)"
   ]
  },
  {
   "cell_type": "code",
   "execution_count": null,
   "metadata": {
    "collapsed": false,
    "jupyter": {
     "outputs_hidden": false
    }
   },
   "outputs": [],
   "source": [
    "# we can get a list of all lines\n",
    "with open('../data/in.dat', 'r') as in_file:\n",
    "    lines = in_file.readlines()\n",
    "\n",
    "print(lines)"
   ]
  },
  {
   "cell_type": "markdown",
   "metadata": {},
   "source": [
    "<div class=\"span alert alert-danger\">\n",
    "Note that the newline characters are included!\n",
    "</div>"
   ]
  },
  {
   "cell_type": "code",
   "execution_count": null,
   "metadata": {
    "collapsed": false,
    "jupyter": {
     "outputs_hidden": false
    }
   },
   "outputs": [],
   "source": [
    "# or just a single line\n",
    "with open('../data/in.dat', 'r') as in_file:\n",
    "    line = in_file.readline()\n",
    "print(line)"
   ]
  },
  {
   "cell_type": "code",
   "execution_count": null,
   "metadata": {
    "collapsed": false,
    "jupyter": {
     "outputs_hidden": false
    }
   },
   "outputs": [],
   "source": [
    "# let's iterate through all the lines in the file\n",
    "in_file = open('../data/in.dat', 'r')\n",
    "lines = in_file.readlines()\n",
    "in_file.close()\n",
    "for line in lines:\n",
    "    print (line.rstrip('\\n'), end=' ')"
   ]
  },
  {
   "cell_type": "markdown",
   "metadata": {},
   "source": [
    "### Writing to files"
   ]
  },
  {
   "cell_type": "code",
   "execution_count": null,
   "metadata": {
    "collapsed": false,
    "jupyter": {
     "outputs_hidden": false
    }
   },
   "outputs": [],
   "source": [
    "# specifiying 'w' will create a file if it doesn't exist and replace the content if it does\n",
    "out_file = open('../data/out.dat', 'w')"
   ]
  },
  {
   "cell_type": "code",
   "execution_count": null,
   "metadata": {
    "collapsed": false,
    "jupyter": {
     "outputs_hidden": false
    }
   },
   "outputs": [],
   "source": [
    "# we can only write strings to files, so we must convert on input and output\n",
    "for line in lines:\n",
    "    a = int(line)\n",
    "    b = a**2\n",
    "    out_file.write('%d\\n' % b)\n",
    "out_file.close()   "
   ]
  },
  {
   "cell_type": "code",
   "execution_count": 2,
   "metadata": {
    "collapsed": false,
    "jupyter": {
     "outputs_hidden": false
    }
   },
   "outputs": [
    {
     "name": "stdout",
     "output_type": "stream",
     "text": [
      "1\n",
      "4\n",
      "9\n",
      "16\n",
      "25\n",
      "36\n",
      "49\n",
      "64\n",
      "81\n",
      "100\n",
      "\n"
     ]
    }
   ],
   "source": [
    "#!cat ../data/out.dat\n",
    "with open('../data/out.dat', 'r') as file:\n",
    "    content = file.read()\n",
    "\n",
    "print(content)\n"
   ]
  },
  {
   "cell_type": "markdown",
   "metadata": {},
   "source": [
    "### Output formatting\n",
    "\n",
    "Python supports various ways of formatting i/o. We have already seen the c-style `%` method and f-strings, which is my preferred method. See: http://docs.python.org/tutorial/inputoutput.html use whichever you like for assignments.\n",
    "\n",
    "A fully descriptive list of all formatting options can be found at https://docs.python.org/3/library/string.html#formatstrings"
   ]
  },
  {
   "cell_type": "markdown",
   "metadata": {},
   "source": [
    "<div class=\"span alert alert-success\">\n",
    "<h2> Team programming challenge </h2>\n",
    "<h3> Average energy for the simple harmonic oscillator at finite temperature</h3>\n",
    "\n",
    "There is a file in the data directory called <kbd>sho_energy.dat</kbd>.  The line contains column headings with units in kelvin.\n",
    "\n",
    "The next set of lines contain quantum Monte Carlo measurements for the kinetic and potential energy of the simple harmonic osscilator at $T = 0.5~\\mathrm{K}$ where $\\hbar \\omega/k_{\\mathrm{B}} = 1$.  The exact answer is known to be:\n",
    "\\begin{equation}\n",
    "E(T) = \\frac{\\hbar \\omega}{2} \\coth \\frac{\\hbar \\omega}{2 k_{\\mathrm{B}} T}.\n",
    "\\end{equation}\n",
    "\n",
    "Write a program that loads the file from disk and stores it in a dictionary with labels taken from the column headers.  Compute the average total energy of all lines.  If you have extra time, compare with the exact result.\n",
    "\n",
    "</div>\n"
   ]
  },
  {
   "cell_type": "code",
   "execution_count": 19,
   "metadata": {
    "collapsed": false,
    "jupyter": {
     "outputs_hidden": false
    }
   },
   "outputs": [
    {
     "name": "stdout",
     "output_type": "stream",
     "text": [
      "0.666991278804\n"
     ]
    }
   ],
   "source": [
    "import numpy as np\n",
    "\n",
    "with open('../data/sho_energy.dat', 'r') as file:\n",
    "    content = file.read()\n",
    "\n",
    "a = content.split()\n",
    "\n",
    "b = []\n",
    "\n",
    "for i in a[3:]:\n",
    "    b.append(float(i))\n",
    "\n",
    "print(np.mean(b) * 2)\n",
    " "
   ]
  },
  {
   "cell_type": "code",
   "execution_count": null,
   "metadata": {},
   "outputs": [],
   "source": []
  }
 ],
 "metadata": {
  "kernelspec": {
   "display_name": "Python 3",
   "language": "python",
   "name": "python3"
  },
  "language_info": {
   "codemirror_mode": {
    "name": "ipython",
    "version": 3
   },
   "file_extension": ".py",
   "mimetype": "text/x-python",
   "name": "python",
   "nbconvert_exporter": "python",
   "pygments_lexer": "ipython3",
   "version": "3.12.6"
  }
 },
 "nbformat": 4,
 "nbformat_minor": 4
}
